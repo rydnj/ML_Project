{
 "cells": [
  {
   "cell_type": "code",
   "execution_count": null,
   "id": "db0b34dc",
   "metadata": {},
   "outputs": [],
   "source": [
    "import os\n",
    "\n",
    "os.chdir(\"../\")"
   ]
  },
  {
   "cell_type": "code",
   "execution_count": null,
   "id": "c569f59c6576cc4",
   "metadata": {
    "ExecuteTime": {
     "end_time": "2024-12-07T03:09:00.575040Z",
     "start_time": "2024-12-07T03:08:59.764332Z"
    }
   },
   "outputs": [],
   "source": [
    "import torch\n",
    "import pandas as pd\n",
    "from mseg.taxonomy.taxonomy_converter import TaxonomyConverter\n",
    "from Lseg.data.dataset import SemData\n",
    "\n",
    "\n",
    "class ToUniversalLabel:\n",
    "    def __init__(self, dataset):\n",
    "        self.dataset = dataset\n",
    "        self.tax_converter = TaxonomyConverter()\n",
    "\n",
    "    def __call__(self, image, label):\n",
    "        return image, self.tax_converter.transform_label(label, self.dataset)\n",
    "\n",
    "    @staticmethod\n",
    "    def read_MSeg_master(file_path):\n",
    "        \"\"\"\n",
    "        Reads the MSeg master TSV file and returns the 'universal' column.\n",
    "        \"\"\"\n",
    "        # Read the TSV file into a pandas DataFrame\n",
    "        df = pd.read_csv(file_path, sep=\"\\t\")\n",
    "        pd.set_option(\"display.max_rows\", None)  # Set to display all rows if necessary\n",
    "        return df[\"universal\"]\n",
    "\n",
    "\n",
    "# Paths\n",
    "file_path_tsv = \"../../mseg-api/mseg/class_remapping_files/MSeg_master.tsv\"\n",
    "images_dir = \"../../data/mseg_dataset/COCOPanoptic/\"\n",
    "path_to_imagefiletext = \"../../mseg-api/mseg/dataset_lists/coco-panoptic-133-relabeled/list/train.txt\"\n",
    "\n",
    "# Read the universal labels (optional display)\n",
    "universal_labels = ToUniversalLabel.read_MSeg_master(file_path_tsv)\n",
    "print(\"Universal Labels:\")\n",
    "print(universal_labels)\n",
    "\n",
    "# Dataset initialization\n",
    "dataset = SemData(\n",
    "    split=\"train\",\n",
    "    data_root=images_dir,\n",
    "    data_list=path_to_imagefiletext,\n",
    "    transform=ToUniversalLabel(\"coco-panoptic-133-relabeled\"),\n",
    ")\n",
    "\n",
    "# Fetch the first sample\n",
    "X, y = dataset[0]\n",
    "unique_values = torch.unique(y)\n",
    "print(\"Unique Label Values in the First Dataset Sample:\")\n",
    "print(unique_values)"
   ]
  },
  {
   "cell_type": "code",
   "execution_count": null,
   "id": "1101e9df9ab4cb26",
   "metadata": {
    "ExecuteTime": {
     "end_time": "2024-12-07T03:50:14.866959Z",
     "start_time": "2024-12-07T03:50:14.315124Z"
    }
   },
   "outputs": [],
   "source": [
    "# Paths\n",
    "file_path_tsv = \"../../mseg-api/mseg/class_remapping_files/MSeg_master.tsv\"\n",
    "images_dir = \"../../data/mseg_dataset/ADE20K/\"\n",
    "path_to_imagefiletext = \"../../mseg-api/mseg/dataset_lists/ade20k-150-relabeled/list/train.txt\"\n",
    "\n",
    "# Read the universal labels (optional display)\n",
    "universal_labels = ToUniversalLabel.read_MSeg_master(file_path_tsv)\n",
    "print(\"Universal Labels:\")\n",
    "print(universal_labels)\n",
    "\n",
    "# Dataset initialization\n",
    "dataset = SemData(\n",
    "    split=\"train\",\n",
    "    data_root=images_dir,\n",
    "    data_list=path_to_imagefiletext,\n",
    "    transform=ToUniversalLabel(\"coco-panoptic-133-relabeled\"),\n",
    ")\n",
    "\n",
    "# Fetch the first sample\n",
    "X, y = dataset[0]\n",
    "unique_values = torch.unique(y)\n",
    "print(\"Unique Label Values in the First Dataset Sample:\")\n",
    "print(unique_values)"
   ]
  }
 ],
 "metadata": {
  "kernelspec": {
   "display_name": "dl",
   "language": "python",
   "name": "python3"
  },
  "language_info": {
   "codemirror_mode": {
    "name": "ipython",
    "version": 3
   },
   "file_extension": ".py",
   "mimetype": "text/x-python",
   "name": "python",
   "nbconvert_exporter": "python",
   "pygments_lexer": "ipython3",
   "version": "3.11.10"
  }
 },
 "nbformat": 4,
 "nbformat_minor": 5
}
